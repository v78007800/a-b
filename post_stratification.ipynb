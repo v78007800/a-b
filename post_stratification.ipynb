{
 "cells": [
  {
   "cell_type": "code",
   "execution_count": 1,
   "metadata": {},
   "outputs": [],
   "source": [
    "from scipy.stats import norm\n",
    "import pandas as pd\n",
    "import numpy as np"
   ]
  },
  {
   "cell_type": "markdown",
   "metadata": {},
   "source": [
    "## Объявим данные"
   ]
  },
  {
   "cell_type": "markdown",
   "metadata": {},
   "source": [
    "Объявим дф с 3 стратами, где у всех отличается дисперсия и средние"
   ]
  },
  {
   "cell_type": "code",
   "execution_count": 2,
   "metadata": {},
   "outputs": [],
   "source": [
    "np.random.seed(1123)\n",
    "treatment_effect = 1\n",
    "\n",
    "# Объявим дф с 3 стратами, где у всех отличается дисперсия и средние\n",
    "def gen_data(treatment_effect = 0):\n",
    "\n",
    "    stratum_1 = pd.DataFrame({\"group\": \"stratum_1\", \"val\": norm.rvs(size=12000, loc=15 + treatment_effect, scale=2)})\n",
    "    stratum_2 = pd.DataFrame({\"group\": \"stratum_2\", \"val\": norm.rvs(size=6000, loc=20 + treatment_effect, scale=2.5)})\n",
    "    stratum_3 = pd.DataFrame({\"group\": \"stratum_3\", \"val\": norm.rvs(size=2000, loc=30 + treatment_effect, scale=3)})\n",
    "\n",
    "    return pd.concat([stratum_1, stratum_2, stratum_3])\n",
    "\n",
    "df_control = gen_data()\n",
    "df_control[\"variant\"] = \"Control\"\n",
    "df_control[\"indx\"] = df_control.index\n",
    "\n",
    "df_treatment = gen_data(treatment_effect)\n",
    "df_treatment[\"variant\"] = \"Treatment\"\n",
    "df_treatment[\"indx\"] = df_treatment.index\n",
    "\n",
    "df_combined = pd.concat([df_control, df_treatment])\n"
   ]
  },
  {
   "cell_type": "markdown",
   "metadata": {},
   "source": [
    "## Считаем средние и дисперсию по двум кейсам: средневзвешенно по стратам и без их учета"
   ]
  },
  {
   "cell_type": "markdown",
   "metadata": {},
   "source": [
    "без страт для сравнения"
   ]
  },
  {
   "cell_type": "code",
   "execution_count": 3,
   "metadata": {},
   "outputs": [
    {
     "name": "stdout",
     "output_type": "stream",
     "text": [
      "   effect_estimate  effect_estimate_se      n\n",
      "0          0.99308            0.051115  40000\n"
     ]
    }
   ],
   "source": [
    "normal_te = pd.DataFrame({\n",
    "    \"effect_estimate\": np.mean(df_treatment.val - df_control.val),\n",
    "    \"effect_estimate_se\": np.sqrt(np.var(df_treatment.val) / len(df_treatment.val) + np.var(df_control.val) / len(df_control.val)),\n",
    "    \"n\": len(df_treatment.val) + len(df_control.val)\n",
    "}, index=[0])\n",
    "print(normal_te)"
   ]
  },
  {
   "cell_type": "code",
   "execution_count": 4,
   "metadata": {},
   "outputs": [],
   "source": [
    "def get_effect_estimate_se(treatment, control):\n",
    "    return np.sqrt(np.var(treatment) / len(treatment) + np.var(control) / len(control))\n",
    "\n",
    "def get_effect_estimate(treatment, control):\n",
    "    return np.mean(treatment - control)"
   ]
  },
  {
   "cell_type": "markdown",
   "metadata": {},
   "source": [
    "по стратам"
   ]
  },
  {
   "cell_type": "code",
   "execution_count": 5,
   "metadata": {},
   "outputs": [],
   "source": [
    "groups = {}\n",
    "for k, group in df_combined.groupby(by=\"group\"):\n",
    "    cur_df = pd.DataFrame()\n",
    "    for g, variant in group.groupby(by=\"variant\"):\n",
    "        cur_df = pd.concat([cur_df, variant])\n",
    "    groups[k] = cur_df"
   ]
  },
  {
   "cell_type": "code",
   "execution_count": 6,
   "metadata": {},
   "outputs": [],
   "source": [
    "effect_estimate_se = []\n",
    "effect_estimate = []\n",
    "n = []\n",
    "stratums = []\n",
    "\n",
    "for key, df in groups.items():\n",
    "    control = df[df.variant==\"Control\"]\n",
    "    treatment = df[df.variant==\"Treatment\"]\n",
    "    effect_estimate_se.append(get_effect_estimate_se(treatment.val, control.val))\n",
    "    effect_estimate.append(get_effect_estimate(treatment.val, control.val))\n",
    "    n.append(len(df))\n",
    "    stratums.append(key)\n",
    "    \n",
    "strat_te = pd.DataFrame({\n",
    "    \"group\": stratums,\n",
    "    \"effect_estimate_se\": effect_estimate_se,\n",
    "    \"effect_estimate\": effect_estimate,\n",
    "    \"n\": n\n",
    "})"
   ]
  },
  {
   "cell_type": "code",
   "execution_count": 7,
   "metadata": {},
   "outputs": [
    {
     "data": {
      "text/html": [
       "<div>\n",
       "<style scoped>\n",
       "    .dataframe tbody tr th:only-of-type {\n",
       "        vertical-align: middle;\n",
       "    }\n",
       "\n",
       "    .dataframe tbody tr th {\n",
       "        vertical-align: top;\n",
       "    }\n",
       "\n",
       "    .dataframe thead th {\n",
       "        text-align: right;\n",
       "    }\n",
       "</style>\n",
       "<table border=\"1\" class=\"dataframe\">\n",
       "  <thead>\n",
       "    <tr style=\"text-align: right;\">\n",
       "      <th></th>\n",
       "      <th>group</th>\n",
       "      <th>effect_estimate_se</th>\n",
       "      <th>effect_estimate</th>\n",
       "      <th>n</th>\n",
       "    </tr>\n",
       "  </thead>\n",
       "  <tbody>\n",
       "    <tr>\n",
       "      <th>0</th>\n",
       "      <td>stratum_1</td>\n",
       "      <td>0.025724</td>\n",
       "      <td>1.014480</td>\n",
       "      <td>24000</td>\n",
       "    </tr>\n",
       "    <tr>\n",
       "      <th>1</th>\n",
       "      <td>stratum_2</td>\n",
       "      <td>0.045432</td>\n",
       "      <td>0.944277</td>\n",
       "      <td>12000</td>\n",
       "    </tr>\n",
       "    <tr>\n",
       "      <th>2</th>\n",
       "      <td>stratum_3</td>\n",
       "      <td>0.092958</td>\n",
       "      <td>1.011093</td>\n",
       "      <td>4000</td>\n",
       "    </tr>\n",
       "  </tbody>\n",
       "</table>\n",
       "</div>"
      ],
      "text/plain": [
       "       group  effect_estimate_se  effect_estimate      n\n",
       "0  stratum_1            0.025724         1.014480  24000\n",
       "1  stratum_2            0.045432         0.944277  12000\n",
       "2  stratum_3            0.092958         1.011093   4000"
      ]
     },
     "execution_count": 7,
     "metadata": {},
     "output_type": "execute_result"
    }
   ],
   "source": [
    "strat_te"
   ]
  },
  {
   "cell_type": "markdown",
   "metadata": {},
   "source": [
    "Взвешенная оценка"
   ]
  },
  {
   "cell_type": "code",
   "execution_count": 8,
   "metadata": {},
   "outputs": [],
   "source": [
    "strat_te[\"effect_estimate_se\"] = strat_te[\"effect_estimate_se\"]*strat_te[\"n\"]/np.sum(strat_te[\"n\"])\n",
    "strat_te[\"effect_estimate\"] = strat_te[\"effect_estimate\"]*strat_te[\"n\"]/np.sum(strat_te[\"n\"])"
   ]
  },
  {
   "cell_type": "code",
   "execution_count": 9,
   "metadata": {},
   "outputs": [
    {
     "name": "stdout",
     "output_type": "stream",
     "text": [
      "effect_estimate_se        0.03836\n",
      "effect_estimate           0.99308\n",
      "n                     40000.00000\n",
      "dtype: float64\n"
     ]
    }
   ],
   "source": [
    "strat_te = strat_te[[\"effect_estimate_se\",\"effect_estimate\",\"n\"]].apply(\"sum\")\n",
    "print(strat_te)"
   ]
  },
  {
   "cell_type": "markdown",
   "metadata": {},
   "source": [
    "## Результаты"
   ]
  },
  {
   "cell_type": "code",
   "execution_count": 10,
   "metadata": {},
   "outputs": [
    {
     "name": "stdout",
     "output_type": "stream",
     "text": [
      "Сокращение дисперсии на 24.954630073771632%\n"
     ]
    }
   ],
   "source": [
    "res = (1-(strat_te.effect_estimate_se/normal_te.effect_estimate_se))*100 \n",
    "print(f\"Сокращение дисперсии на {res[0]}%\")"
   ]
  },
  {
   "cell_type": "code",
   "execution_count": null,
   "metadata": {},
   "outputs": [],
   "source": []
  }
 ],
 "metadata": {
  "kernelspec": {
   "display_name": "Python 3",
   "language": "python",
   "name": "python3"
  },
  "language_info": {
   "codemirror_mode": {
    "name": "ipython",
    "version": 3
   },
   "file_extension": ".py",
   "mimetype": "text/x-python",
   "name": "python",
   "nbconvert_exporter": "python",
   "pygments_lexer": "ipython3",
   "version": "3.7.3"
  }
 },
 "nbformat": 4,
 "nbformat_minor": 4
}
