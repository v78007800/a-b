{
 "cells": [
  {
   "cell_type": "code",
   "execution_count": null,
   "metadata": {},
   "outputs": [],
   "source": [
    "#примеры: бином, t test, z test, chi square, Mann-Whetney"
   ]
  },
  {
   "cell_type": "code",
   "execution_count": null,
   "metadata": {},
   "outputs": [],
   "source": []
  },
  {
   "cell_type": "markdown",
   "metadata": {},
   "source": [
    "# Подбросили монету 100 раз, орел выпал 65. Нормальна ли монета?"
   ]
  },
  {
   "cell_type": "code",
   "execution_count": 14,
   "metadata": {},
   "outputs": [
    {
     "data": {
      "text/plain": [
       "0.002699796063260207"
      ]
     },
     "execution_count": 14,
     "metadata": {},
     "output_type": "execute_result"
    }
   ],
   "source": [
    "#Z test\n",
    "#так как мы знаем СКО ген совокупности то можно применить z test\n",
    "import math\n",
    "X_bar = 0.65\n",
    "mean = 0.5\n",
    "len = 100\n",
    "p = 0.5\n",
    "z = (X_bar - mean) / math.sqrt(p*(1-p) /len)\n",
    "p_value = 1 - scipy.stats.norm.cdf(z)\n",
    "p_value*2"
   ]
  },
  {
   "cell_type": "code",
   "execution_count": 15,
   "metadata": {},
   "outputs": [
    {
     "data": {
      "text/plain": [
       "0.0035176417229701613"
      ]
     },
     "execution_count": 15,
     "metadata": {},
     "output_type": "execute_result"
    }
   ],
   "source": [
    "#Binomial test\n",
    "import scipy\n",
    "scipy.stats.binom_test(65, n=100, p=0.5, alternative='two-sided') #отклоняем Н0"
   ]
  },
  {
   "cell_type": "code",
   "execution_count": 18,
   "metadata": {},
   "outputs": [
    {
     "data": {
      "text/plain": [
       "0.00373162660076809"
      ]
     },
     "execution_count": 18,
     "metadata": {},
     "output_type": "execute_result"
    }
   ],
   "source": [
    "#мы можем сказать что распр бернулли близко к норм по ЦПТ\n",
    "import math\n",
    "X_bar = 65-0.5 #continuity correction\n",
    "mean = 50\n",
    "len = 100\n",
    "p = 0.5\n",
    "z = (X_bar - mean) / math.sqrt(p*(1-p)*len)\n",
    "p_value = 1 - scipy.stats.norm.cdf(z)\n",
    "p_value*2"
   ]
  },
  {
   "cell_type": "markdown",
   "metadata": {},
   "source": [
    "# A/B testing: 20 из 1000 против 30 из 900"
   ]
  },
  {
   "cell_type": "code",
   "execution_count": 25,
   "metadata": {},
   "outputs": [
    {
     "data": {
      "text/plain": [
       "0.07357757805716392"
      ]
     },
     "execution_count": 25,
     "metadata": {},
     "output_type": "execute_result"
    }
   ],
   "source": [
    "#t test for two population\n",
    "n1 = 1000\n",
    "n2= 900\n",
    "click1 = 20\n",
    "click2 = 30\n",
    "x1 = click1/n1\n",
    "x2 = click2/n2\n",
    "p1 = x1\n",
    "p2 = x2\n",
    "SE = math.sqrt( p1*(1-p1)/n1 + p2*(1-p2)/n2 )\n",
    "t = abs(x1 - x2) / SE\n",
    "p_value = 1 - scipy.stats.t.cdf(t, df = min(n1 -1, n2 -1) )\n",
    "p_value * 2"
   ]
  },
  {
   "cell_type": "code",
   "execution_count": 28,
   "metadata": {},
   "outputs": [
    {
     "data": {
      "image/png": "[encoded data removed]",
      "text/plain": [
       "<Figure size 432x288 with 1 Axes>"
      ]
     },
     "metadata": {
      "needs_background": "light"
     },
     "output_type": "display_data"
    }
   ],
   "source": [
    "#смоделируем бином распределение\n",
    "%matplotlib inline\n",
    "import matplotlib.pyplot as plt\n",
    "from scipy.stats import binom\n",
    "import numpy as np\n",
    "\n",
    "num_a, num_b = 1000, 900\n",
    "click_a, click_b = 20, 30\n",
    "rate_a, rate_b = click_a / num_a, click_b / num_b\n",
    "\n",
    "# Determine the probability of having x number of click throughs\n",
    "clicks = np.arange(0, 60)\n",
    "prob_a = binom(num_a, rate_a).pmf(clicks)\n",
    "prob_b = binom(num_b, rate_b).pmf(clicks)\n",
    "\n",
    "# Make the bar plots.\n",
    "plt.bar(clicks, prob_a, label=\"A\", alpha=0.7)\n",
    "plt.bar(clicks, prob_b, label=\"B\", alpha=0.7)\n",
    "plt.legend()\n",
    "plt.xlabel(\"Num converted\"); plt.ylabel(\"Probability\");"
   ]
  },
  {
   "cell_type": "code",
   "execution_count": 37,
   "metadata": {},
   "outputs": [
    {
     "data": {
      "text/plain": [
       "Text(0, 0.5, 'Probability')"
      ]
     },
     "execution_count": 37,
     "metadata": {},
     "output_type": "execute_result"
    },
    {
     "data": {
      "image/png": "[encoded data removed]",
      "text/plain": [
       "<Figure size 432x288 with 1 Axes>"
      ]
     },
     "metadata": {
      "needs_background": "light"
     },
     "output_type": "display_data"
    }
   ],
   "source": [
    "#по ЦПТ перейдем к норм распределению\n",
    "from scipy.stats import norm\n",
    "\n",
    "# Where does this come from? See the link above.\n",
    "#std_a = np.sqrt(rate_a * (1 - rate_a) / num_a)\n",
    "#std_b = np.sqrt(rate_b * (1 - rate_b) / num_b)\n",
    "\n",
    "click_rate = np.linspace(-0.01, 0.06, 200)\n",
    "prob_a = norm(rate_a, std_a).pdf(click_rate)\n",
    "prob_b = norm(rate_b, std_b).pdf(click_rate)\n",
    "\n",
    "# Make the bar plots.\n",
    "plt.plot(click_rate, prob_a, label=\"A\")\n",
    "plt.plot(click_rate, prob_b, label=\"B\")\n",
    "plt.legend(frameon=False)\n",
    "plt.xlabel(\"Conversion rate\")\n",
    "plt.ylabel(\"Probability\")"
   ]
  },
  {
   "cell_type": "code",
   "execution_count": 42,
   "metadata": {},
   "outputs": [
    {
     "name": "stdout",
     "output_type": "stream",
     "text": [
      "zscore is 1.791, with p-value 0.03662\n"
     ]
    }
   ],
   "source": [
    "#z one-tailed test\n",
    "z_score = (rate_b - rate_a) / np.sqrt(std_a**2 + std_b**2)\n",
    "p = norm(rate_b - rate_a, np.sqrt(std_a**2 + std_b**2))\n",
    "print(f\"zscore is {z_score:0.3f}, with p-value {norm().sf(z_score):0.5f}\")"
   ]
  },
  {
   "cell_type": "code",
   "execution_count": 72,
   "metadata": {},
   "outputs": [
    {
     "name": "stdout",
     "output_type": "stream",
     "text": [
      "B is better than A 96.3% of the time\n"
     ]
    }
   ],
   "source": [
    "# Симулируем проверку\n",
    "n = 1000\n",
    "rates_a = norm(rate_a, std_a).rvs(n)\n",
    "rates_b = norm(rate_b, std_b).rvs(n)\n",
    "b_better = (rates_b > rates_a).sum() / n\n",
    "print(f\"B is better than A {b_better * 100:0.1f}% of the time\")"
   ]
  },
  {
   "cell_type": "code",
   "execution_count": 49,
   "metadata": {},
   "outputs": [
    {
     "name": "stdout",
     "output_type": "stream",
     "text": [
      "Zscore is -1.79, p-value is 0.074 (two tailed), 0.037 (one tailed)\n"
     ]
    }
   ],
   "source": [
    "#Welsch’s t-test\n",
    "from scipy.stats import ttest_ind\n",
    "a_dist = np.zeros(num_a)\n",
    "a_dist[:click_a] = 1\n",
    "b_dist = np.zeros(num_b)\n",
    "b_dist[:click_b] = 1\n",
    "zscore, prob = ttest_ind(a_dist, b_dist, equal_var=False)\n",
    "print(f\"Zscore is {zscore:0.2f}, p-value is {prob:0.3f} (two tailed), {prob/2:0.3f} (one tailed)\")"
   ]
  },
  {
   "cell_type": "code",
   "execution_count": 50,
   "metadata": {},
   "outputs": [
    {
     "name": "stdout",
     "output_type": "stream",
     "text": [
      "Mann-Whitney U test for null hypothesis B <= A is 0.035\n"
     ]
    }
   ],
   "source": [
    "#A better option for discrete data is the Mann-Whitney U statistic\n",
    "from scipy.stats import mannwhitneyu\n",
    "stat, p_value = mannwhitneyu(a_dist, b_dist, alternative=\"less\") #B > A\n",
    "print(f\"Mann-Whitney U test for null hypothesis B <= A is {p_value:0.3f}\")"
   ]
  },
  {
   "cell_type": "code",
   "execution_count": 67,
   "metadata": {},
   "outputs": [
    {
     "data": {
      "text/plain": [
       "0.06985234871449345"
      ]
     },
     "execution_count": 67,
     "metadata": {},
     "output_type": "execute_result"
    }
   ],
   "source": [
    "#можем рассмотреть задачу как категор данные и применить Хи квадрат\n",
    "#применимо когда больше 2 выборок\n",
    "#        Clicks |NonClicks |Impressions\n",
    "#Ad 1   |20     |980       |1000        \n",
    "#Ad 2   |30     |870       |900         \n",
    "\n",
    "stat, p, dof, expected = scipy.stats.chi2_contingency([[20,980],[30,870]],correction=False)\n",
    "p"
   ]
  },
  {
   "cell_type": "code",
   "execution_count": null,
   "metadata": {},
   "outputs": [],
   "source": []
  }
 ],
 "metadata": {
  "kernelspec": {
   "display_name": "Python 3",
   "language": "python",
   "name": "python3"
  },
  "language_info": {
   "codemirror_mode": {
    "name": "ipython",
    "version": 3
   },
   "file_extension": ".py",
   "mimetype": "text/x-python",
   "name": "python",
   "nbconvert_exporter": "python",
   "pygments_lexer": "ipython3",
   "version": "3.7.3"
  }
 },
 "nbformat": 4,
 "nbformat_minor": 2
}
