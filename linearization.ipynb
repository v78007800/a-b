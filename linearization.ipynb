{
 "cells": [
  {
   "cell_type": "markdown",
   "metadata": {},
   "source": [
    "Формула линеаризации\n",
    "\n",
    "$$\n",
    "L x,y,k(U) = X(u) - kY(u)\n",
    "$$\n",
    "\n",
    "где: x-сумма действий, Y - кол-во действий, K - общее RATIO по контролю"
   ]
  },
  {
   "cell_type": "code",
   "execution_count": 52,
   "metadata": {},
   "outputs": [],
   "source": [
    "import scipy.stats\n",
    "import numpy as np\n",
    "def confidence_interval(data, confidence=0.95):\n",
    "    return st.t.interval(confidence, len(data)-1, loc=np.mean(data), scale=st.sem(data))"
   ]
  },
  {
   "cell_type": "code",
   "execution_count": 74,
   "metadata": {},
   "outputs": [],
   "source": [
    "control_nom = np.random.normal(100,20,1000)\n",
    "control_denom = np.random.normal(500,50,1000)\n",
    "\n",
    "test_nom = np.random.normal(100+5,20,1000)\n",
    "test_denom = np.random.normal(500,50,1000)"
   ]
  },
  {
   "cell_type": "code",
   "execution_count": 75,
   "metadata": {},
   "outputs": [],
   "source": [
    "test_global_ratio = sum(test_nom) / sum(test_denom) #K\n",
    "L = control_nom - test_global_ratio * control_denom #X - KY"
   ]
  },
  {
   "cell_type": "code",
   "execution_count": 76,
   "metadata": {},
   "outputs": [
    {
     "data": {
      "text/plain": [
       "(-7.405285324930311, -4.650762167235632)"
      ]
     },
     "execution_count": 76,
     "metadata": {},
     "output_type": "execute_result"
    }
   ],
   "source": [
    "confidence_interval(L)"
   ]
  },
  {
   "cell_type": "code",
   "execution_count": null,
   "metadata": {},
   "outputs": [],
   "source": []
  },
  {
   "cell_type": "markdown",
   "metadata": {},
   "source": [
    "# Симуляция данных"
   ]
  },
  {
   "cell_type": "code",
   "execution_count": 1,
   "metadata": {},
   "outputs": [],
   "source": [
    "import numpy as np"
   ]
  },
  {
   "cell_type": "code",
   "execution_count": 25,
   "metadata": {},
   "outputs": [
    {
     "name": "stdout",
     "output_type": "stream",
     "text": [
      "Global ratio: 0.200972\n",
      "Naive ratio: 0.203107\n"
     ]
    }
   ],
   "source": [
    "nom = np.random.normal(100,20,1000)\n",
    "denom = np.random.normal(500,50,1000)\n",
    "print('Global ratio: %f' % (sum(nom) / sum(denom)))\n",
    "print('Naive ratio: %f' % ((nom / denom).mean()))"
   ]
  },
  {
   "cell_type": "code",
   "execution_count": 26,
   "metadata": {},
   "outputs": [
    {
     "name": "stdout",
     "output_type": "stream",
     "text": [
      "0.20097827340372393\n",
      "0.0013977200697256726\n"
     ]
    }
   ],
   "source": [
    "#расчет global ratio по бутстрапу\n",
    "global_ratio = np.array([])\n",
    "for i in range(10000):\n",
    "    global_ratio_temp = sum(np.random.choice(nom, 1000, replace=True)) / sum(np.random.choice(denom, 1000, replace=True))\n",
    "    global_ratio = np.append(global_ratio, global_ratio_temp)\n",
    "print(global_ratio.mean())"
   ]
  },
  {
   "cell_type": "markdown",
   "metadata": {},
   "source": [
    "бутстрап дает оценку близкую к global ratio"
   ]
  },
  {
   "cell_type": "code",
   "execution_count": null,
   "metadata": {},
   "outputs": [],
   "source": []
  }
 ],
 "metadata": {
  "kernelspec": {
   "display_name": "Python 3",
   "language": "python",
   "name": "python3"
  },
  "language_info": {
   "codemirror_mode": {
    "name": "ipython",
    "version": 3
   },
   "file_extension": ".py",
   "mimetype": "text/x-python",
   "name": "python",
   "nbconvert_exporter": "python",
   "pygments_lexer": "ipython3",
   "version": "3.7.3"
  }
 },
 "nbformat": 4,
 "nbformat_minor": 4
}
