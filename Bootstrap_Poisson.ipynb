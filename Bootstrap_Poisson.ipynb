{
 "cells": [
  {
   "cell_type": "code",
   "execution_count": 48,
   "metadata": {},
   "outputs": [],
   "source": [
    "import numpy as np\n",
    "import time"
   ]
  },
  {
   "cell_type": "code",
   "execution_count": 57,
   "metadata": {},
   "outputs": [
    {
     "name": "stdout",
     "output_type": "stream",
     "text": [
      "True Mean: 0.706787\n",
      "True Median: 0.521215\n"
     ]
    }
   ],
   "source": [
    "mean = 100\n",
    "stdev = 10\n",
    "sample_size = 1000\n",
    "num_backets = 50000\n",
    "sample = np.random.normal(loc=mean, scale=stdev, size=sample_size)\n",
    "\n",
    "print('True Mean: %f' % sample.mean())\n",
    "print('True Median: %f' % np.median(sample))"
   ]
  },
  {
   "cell_type": "code",
   "execution_count": 58,
   "metadata": {},
   "outputs": [
    {
     "name": "stdout",
     "output_type": "stream",
     "text": [
      "Time: 5.846432\n",
      "Mean: 0.706721\n",
      "Median: 0.706374\n",
      "STD: 0.022308\n",
      "CI: [0.66379016 0.75115214]\n"
     ]
    }
   ],
   "source": [
    "#простой бутстрап\n",
    "start = time.time()\n",
    "bootstrap_means = np.array([])\n",
    "for i in range(num_backets):\n",
    "    x = np.random.choice(sample, sample_size, replace=True)\n",
    "    bootstrap_means = np.append(bootstrap_means, x.mean())\n",
    "print('Time: %f' % (time.time() - start))\n",
    "print('Mean: %f' % bootstrap_means.mean())\n",
    "print('Median: %f' % np.median(bootstrap_means))\n",
    "print('STD: %f' % bootstrap_means.std())\n",
    "print('CI: ' + str(np.percentile(bootstrap_means, [2.5, 97.5])))"
   ]
  },
  {
   "cell_type": "markdown",
   "metadata": {},
   "source": [
    "При Пуассоне мы не знаем изначально кол-во испытаний, мы берем первое и сразу считаем сколько раз оно попадет в каждый из бакетов, затем второй и тд. "
   ]
  },
  {
   "cell_type": "code",
   "execution_count": 59,
   "metadata": {},
   "outputs": [
    {
     "name": "stdout",
     "output_type": "stream",
     "text": [
      "Time: 3.880927\n",
      "Mean: 0.706758\n",
      "Median: 0.706483\n",
      "STD: 0.031594\n"
     ]
    }
   ],
   "source": [
    "#бутстрап с использованием распределение Пуассона\n",
    "start = time.time()\n",
    "poisson_sums = np.zeros(num_backets)\n",
    "for i in sample:\n",
    "    poisson_sums += np.random.poisson(1, num_backets) * i\n",
    "poisson_means = poisson_sums / sample_size\n",
    "print('Time: %f' % (time.time() - start))\n",
    "print('Mean: %f' % poisson_means.mean())\n",
    "print('Median: %f' % np.median(poisson_means))\n",
    "print('STD: %f' % poisson_means.std())"
   ]
  },
  {
   "cell_type": "markdown",
   "metadata": {},
   "source": [
    "Алгоритм Пуассона можно запускать в потоке, не имею всех наблюдений"
   ]
  },
  {
   "cell_type": "markdown",
   "metadata": {},
   "source": [
    "Алгоритм Пуассона показывает лучше результаты, когда кол-во бакетов больше кол-ва элементов в семпле"
   ]
  },
  {
   "cell_type": "code",
   "execution_count": null,
   "metadata": {},
   "outputs": [],
   "source": []
  }
 ],
 "metadata": {
  "kernelspec": {
   "display_name": "Python 3",
   "language": "python",
   "name": "python3"
  },
  "language_info": {
   "codemirror_mode": {
    "name": "ipython",
    "version": 3
   },
   "file_extension": ".py",
   "mimetype": "text/x-python",
   "name": "python",
   "nbconvert_exporter": "python",
   "pygments_lexer": "ipython3",
   "version": "3.7.3"
  }
 },
 "nbformat": 4,
 "nbformat_minor": 2
}
